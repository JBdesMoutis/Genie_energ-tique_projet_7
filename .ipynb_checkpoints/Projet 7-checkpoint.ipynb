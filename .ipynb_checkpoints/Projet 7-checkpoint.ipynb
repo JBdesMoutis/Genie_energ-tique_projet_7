{
 "cells": [
  {
   "cell_type": "markdown",
   "id": "ba05b998",
   "metadata": {},
   "source": [
    "# Projet de Génie Energétique n°7\n",
    "\n",
    "*Jean-Baptiste des Moutis et Jeanne Mirone, groupe 3*"
   ]
  },
  {
   "cell_type": "code",
   "execution_count": 64,
   "id": "ea2cdd87",
   "metadata": {},
   "outputs": [],
   "source": [
    "import CoolProp.CoolProp as CP\n",
    "import numpy as np\n",
    "import matplotlib.pyplot as plt"
   ]
  },
  {
   "cell_type": "markdown",
   "id": "e9d40f39",
   "metadata": {},
   "source": [
    "## Partie 1\n",
    "### Question 1\n",
    "#### Etude du fluide R1234yf"
   ]
  },
  {
   "cell_type": "markdown",
   "id": "d770adb4",
   "metadata": {},
   "source": [
    "**Etape 1:**\n",
    "\n",
    "Dans l’évaporateur (entre 4 et 1), le fluide R-1234yf subit cette évolution :\n",
    "\n",
    "![1er graphe](g1.png)\n",
    "\n",
    "On prend T1 = 0°c pour respecter l’hypothèse du pincement de 5K. Ainsi, entre 4 et 1, avant la surchauffe, on se place à T = -2°c. On en déduit par lecture graphique sur le diagramme h-p que:\n",
    "P1 = 3 bars. \n",
    "Avec la surchauffe de 2K, on arrive après le point de vapeur saturante à h1 = 363kJ/kg et        s1 = 1,61 kJ.kg$^{-1}$.K$^{-1}$, qu’on obtient par lecture graphique.\n",
    "\n",
    "**Etape 2**:\n",
    "\n",
    "On veut arriver à $T_{détendeur} = T_{air + pincement + sous-refroidissement}$ = 52°c donc on se place à             P2 = 14 bars. Dans le cas d’une compression isentropique : T2’ = 50°c et s2’ = 1,61 kJ.kg$^{-1}$.K$^{-1}$= s1, et on lit graphiquement que h2’ = 394 kJ/kg. \n",
    "\n",
    "Pour déterminer le point 2 réel, on utilise le rendement : \n",
    "$$\\eta_is = 0,874 - 0,0135 \\sigma$$\n",
    "\n",
    "Avec    $\\sigma$ = P2/P1 = 14/3 = 4,6. D’où   $\\eta_{is}$      = 0,81 = $\\frac{h_{2’} – h_1}{h_2 – h_1}$. Donc $h_2 = h_1 + (h_{2’} – h_1)$.$\\frac{1}{\\eta_{is}}$        donc on obtient $h_2$ = 401 kJ/kg et $T_2$ = 60°c *par lecture graphique*.\n"
   ]
  },
  {
   "cell_type": "markdown",
   "id": "8b4f4180",
   "metadata": {},
   "source": [
    "**Etape 3**:\n",
    "\n",
    "Dans le condensateur, le fluide R-1234yf subit cette évolution : \n",
    "\n",
    "![g2](g2.png)\n",
    "\n",
    "On a alors que T3 = 50°c et P3 = P2 = 14 bars. Graphiquement, on lit h3 = 270 kJ/kg."
   ]
  },
  {
   "cell_type": "markdown",
   "id": "26d9705b",
   "metadata": {},
   "source": [
    "On suppose la détente isenthalpique : le fluide se retrouve à $P_4 = P_1$ = 3 bars et $T_4$ = -2°c = $T_1$ et             $h_4 = h_3 $= 270 kJ/kg. \n",
    "\n",
    "De plus, l’état 4 est un état biphasique : on calcule la fraction massique en vapeur : $x_4 = \\frac{h_4 – h_{SatLiq}}{h_{SatVap} – h_{SatLiq}} = 0,4$.\n",
    "\n"
   ]
  },
  {
   "cell_type": "markdown",
   "id": "a585b8ef",
   "metadata": {},
   "source": [
    "Ce cycle est résumé dans le tableau  et le graphe suivant:\n",
    "\n",
    "![cycle](cycle2.PNG)\n",
    "![tableau 1](tab1.PNG)"
   ]
  },
  {
   "cell_type": "markdown",
   "id": "19b66eb1",
   "metadata": {},
   "source": [
    "#### Etude du fluide R290"
   ]
  },
  {
   "cell_type": "markdown",
   "id": "d8b9e831",
   "metadata": {},
   "source": [
    "**Etape 1**:\n",
    "\n",
    "Dans l’évaporateur (entre 4 et 1), le fluide R290 subit cette évolution :\n",
    "![3e graphe](g3.png)\n",
    "\n",
    "On prend $T_1$ = 0°c pour respecter l’hypothèse du pincement de 5K. Ainsi, entre 4 et 1, avant la surchauffe, on se place à T = -2°c. On en déduit par lecture graphique sur le diagramme h-p que        $P_1$ = 4,5 bars. \n",
    "\n",
    "Avec la surchauffe de 2K, on arrive après le point de vapeur saturante à $h_1$ = 575kJ/kg et        $s_1$ = 2,38 kJ.$kg^{-1}.K^{-1}$, qu’on obtient par lecture graphique."
   ]
  },
  {
   "cell_type": "markdown",
   "id": "db41617a",
   "metadata": {},
   "source": [
    "**Etape 2**:\n",
    "\n",
    "On veut arriver à $T_{détendeur} = T_{air + pincement + sous-refroidissement}$ = 52°c donc on se place à            $ P_2$ = 19 bars. Dans le cas d’une compression isentropique : $T_{2’}$ = 58°c et $s_{2’} = 2,38 = s_1$, et on lit graphiquement que $h_{2’}$ = 645 kJ/kg. Pour déterminer le point 2 réel, on utilise le rendement : \n",
    "\n",
    "$$\\eta_{is} = 0,874 - 0,0135 \\sigma$$\n",
    "\n",
    "Avec    $\\sigma$ = P2/P1 = 19/4,5 = 4,2. D’où $\\eta_{is}        = 0,82 = \\frac{h_{2’} – h_1}{h_2 – h_1}$. Donc $h_2 = h_1 + (h_{2’} – h_1)$.$\\frac{1}{\\eta_{is}}$       donc on obtient $h_2$ = 660 kJ/kg et $T_2$ = 66°c par lecture graphique.\n"
   ]
  },
  {
   "cell_type": "markdown",
   "id": "a3832f7e",
   "metadata": {},
   "source": [
    "**Etape 3**:\n",
    "\n",
    "Dans le condensateur, le fluide R290 subit cette évolution :\n",
    "![dernier graphe](g4.png)\n",
    "\n",
    "On a alors que $T_3$ = 50°c et $P_3 = P_2$ = 19 bars. Graphiquement, on lit $h_3$ = 330 kJ/kg.\n",
    "\n"
   ]
  },
  {
   "cell_type": "markdown",
   "id": "6c099f46",
   "metadata": {},
   "source": [
    "**Etape 4**:\n",
    "\n",
    "On suppose la détente isenthalpique : le fluide se retrouve à $P_4 = P_1$ = 4,5 bars et $T_4 = -2°c = T1$ et             $h_4 = h_3$ = 330 kJ/kg. \n",
    "\n",
    "De plus, l’état 4 est un état biphasique : on calcule la fraction massique en vapeur : $x_4 = \\frac{h_4 – h_{SatLiq}}{h_{SatVap} – h_{SatLiq}}$ = 0,34.\n",
    "\n"
   ]
  },
  {
   "cell_type": "markdown",
   "id": "7c88e1ac",
   "metadata": {},
   "source": [
    "On résume dans ce tableau et ce graphe le cycle:\n",
    "![cycle](cycle1.PNG)\n",
    "![tab2](tab2.PNG)"
   ]
  },
  {
   "cell_type": "markdown",
   "id": "bcef1829",
   "metadata": {},
   "source": [
    "### Question 2: Calculer le COP"
   ]
  },
  {
   "cell_type": "markdown",
   "id": "b0cd2075",
   "metadata": {},
   "source": [
    "On a par définition : COP = $-\\frac{Q_{23}}{\\tau}$\n",
    ". \n",
    "\n",
    "Avec $Q_{23}$ = ∆H car la transformation est isobare. \t\t   Ainsi, pour le fluide R-1234yf, on a $Q_{23} = h_3-h_2 $= -131 kJ/kg. Et $\\tau = h_2 – h_1$ = 38 kJ/kg. \t\t  \n",
    "\n",
    "Donc **$COP_{R-1234yf}$ = 3,4 ≈ 3**.\n",
    "\n",
    "\n",
    "De même, pour le fluide R290, on a : **$COP_{R290}$ = 3,9 ≈ 4**.\n",
    "\n",
    "Enfin, on a $COP_{Carnot} = \\frac{T_c}{ T_c – T_f } = 8$\n",
    "\n",
    "D’où le classement : **$COP_{Carnot} $> $COP_{R290} $  > $COP_{R-1234yf}$** . Donc en se basant uniquement sur les efficacités, on préfèrera utiliser le fluide R290.\n"
   ]
  },
  {
   "cell_type": "markdown",
   "id": "835f7ea6",
   "metadata": {},
   "source": [
    "### Question 3: débit de fluide nécessaire"
   ]
  },
  {
   "cell_type": "markdown",
   "id": "a80884a5",
   "metadata": {},
   "source": [
    "On veut $\\dot Q_{23}  ̇  \\dot m ̇(h_2 – h_3)$ = 12 kW, d’où  $\\dot m$= 0,1 kg/s.\n",
    "\n",
    "Or entre les états 1 et 2, on a que le volume massique est compris entre 0,1 et 0,02 pour les 2 fluides d’où $\\dot m \\approx 0,01 m^3$/s.\n",
    "\n",
    "Pour une vitesse de 40m/s, on obtient S = 0,002 $m^2 = 20cm^2$ donc un diamètre de 5cm. (ici le calcul a été fait pour le volume massique de 0,1 m3/kg). \n",
    "\n",
    "On prend donc une **conduite de l’ordre de 1cm**.\n"
   ]
  },
  {
   "cell_type": "markdown",
   "id": "521fa78e",
   "metadata": {},
   "source": [
    "## Partie 2\n",
    "\n",
    "### Question 1\n",
    "*Dans toute cette partie, on se limitera à l'étude du fluide R290*\n",
    "#### Variation de $T_c$"
   ]
  },
  {
   "cell_type": "code",
   "execution_count": 74,
   "id": "e67204e7",
   "metadata": {},
   "outputs": [
    {
     "data": {
      "image/png": "[encoded data removed]",
      "text/plain": [
       "<Figure size 640x480 with 1 Axes>"
      ]
     },
     "metadata": {},
     "output_type": "display_data"
    },
    {
     "name": "stdout",
     "output_type": "stream",
     "text": [
      "[278375.51033581 306693.4690706  336749.05458797 369555.40207682]\n"
     ]
    }
   ],
   "source": [
    "\n",
    "T = 273 + np.array([30, 40, 50, 60])\n",
    "h = np.array([CP.PropsSI('H','T|liquid',t,'P',14e5,'R290') for t in T])\n",
    "Q = -(h-660000)/(660000-575000)\n",
    "\n",
    "plt.plot(T, Q)\n",
    "plt.xlabel('$T_c$ en K')\n",
    "plt.ylabel('COP')\n",
    "plt.title('Evolution du COP avec $T_c$')\n",
    "plt.show()\n",
    "print(h)"
   ]
  },
  {
   "cell_type": "code",
   "execution_count": 66,
   "id": "8cfd1f45",
   "metadata": {},
   "outputs": [
    {
     "data": {
      "text/plain": [
       "array([4.48969988, 4.15654742, 3.8029523 , 3.41699527])"
      ]
     },
     "execution_count": 66,
     "metadata": {},
     "output_type": "execute_result"
    }
   ],
   "source": [
    "Q"
   ]
  },
  {
   "cell_type": "markdown",
   "id": "bdeaed77",
   "metadata": {},
   "source": [
    "|$T_c$ (en K) | COP |\n",
    "|---------|---|\n",
    "|303|4.4897|\n",
    "|313|4.1565|\n",
    "|323|3.8030|\n",
    "|333|3.4170|\n",
    "\n",
    "On remarque que le **COP est décroissant avec $T_c$**\n",
    "\n",
    "Les valeurs obtenues sont dans en ordre de grandeur acceptables par rapport aux COP de pompes à chaleur classiques ..."
   ]
  },
  {
   "cell_type": "markdown",
   "id": "7c0cf007",
   "metadata": {},
   "source": [
    "#### Variation de $T_f$"
   ]
  },
  {
   "cell_type": "code",
   "execution_count": 73,
   "id": "ac7f4db5",
   "metadata": {},
   "outputs": [
    {
     "data": {
      "image/png": "[encoded data removed]",
      "text/plain": [
       "<Figure size 640x480 with 1 Axes>"
      ]
     },
     "metadata": {},
     "output_type": "display_data"
    },
    {
     "name": "stdout",
     "output_type": "stream",
     "text": [
      "[2.59041712 2.99639515 3.55061191]\n"
     ]
    }
   ],
   "source": [
    "T2 = 273-np.array([25, 15, 5])\n",
    "\n",
    "H_f = np.array([CP.PropsSI('H','T|gas',t,'P',4.5e5,'R290') for t in T2])\n",
    "\n",
    "COP_f = -(330000-660000)/(660000-H_f)\n",
    "\n",
    "plt.plot(T2, COP_f)\n",
    "plt.xlabel('$T_f $ en K')\n",
    "plt.ylabel('COP')\n",
    "plt.title('Evolution du COP avec $T_f$')\n",
    "plt.show()\n",
    "print(COP_f)"
   ]
  },
  {
   "cell_type": "markdown",
   "id": "7abf2461",
   "metadata": {},
   "source": [
    "|$T_f$ (en K) | COP |\n",
    "|---------|---|\n",
    "|248|2.5904|\n",
    "|258|2.9964|\n",
    "|268|3.5506|\n",
    "\n",
    "On garde des ordres de grandeur cohérents avec la partie précédente et avec les données des COP de machines classiques...\n",
    "\n",
    "On remarque tout de même que **le COP croît avec $T_f$**"
   ]
  },
  {
   "cell_type": "markdown",
   "id": "59a02b55",
   "metadata": {},
   "source": [
    "#### Températures de refoulement"
   ]
  },
  {
   "cell_type": "markdown",
   "id": "c0b7ec23",
   "metadata": {},
   "source": [
    "On va pouvoir jouer sur le rapport de compression, ie la valeur de $P_2$\n",
    "\n",
    "On a la relation $\\eta_{is} = 0,874 - 0,0135 \\sigma$\n",
    "\n",
    "On a choisi dans la première partie $\\sigma = 4,2$, on va ici le faire varier entre 2 et 5.\n",
    "\n",
    "On dispose de la formule:\n",
    "$$T_2 = T_{ref} = T_1 + \\frac{1}{\\eta} T_1 (\\sigma^{\\frac{\\gamma - 1}{\\gamma}}-1)$$\n",
    "\n",
    "D'où:"
   ]
  },
  {
   "cell_type": "code",
   "execution_count": 68,
   "id": "fcb62d57",
   "metadata": {},
   "outputs": [
    {
     "data": {
      "image/png": "[encoded data removed]",
      "text/plain": [
       "<Figure size 640x480 with 1 Axes>"
      ]
     },
     "metadata": {},
     "output_type": "display_data"
    }
   ],
   "source": [
    "gamma = 1.4\n",
    "T1 = 273\n",
    "def eta(s):\n",
    "    return 0.874-0.0135*s\n",
    "\n",
    "def Tref(s):\n",
    "    return T1*(1+(s**((gamma-1)/gamma) -1)/eta(s))\n",
    "\n",
    "sigma = np.linspace(2, 5, 50)\n",
    "Tr = Tref(sigma)-273\n",
    "\n",
    "plt.plot(sigma, Tr)\n",
    "plt.xlabel('$\\sigma$')\n",
    "plt.ylabel('$T_{ref}$ en °C')\n",
    "plt.title('Température de refoulement en fonction des paramètres de pression')\n",
    "plt.show()"
   ]
  },
  {
   "cell_type": "markdown",
   "id": "6583da97",
   "metadata": {},
   "source": [
    "### Question 2\n"
   ]
  },
  {
   "cell_type": "markdown",
   "id": "f43251b5",
   "metadata": {},
   "source": [
    "#### $1^{ère}$ proposition"
   ]
  },
  {
   "cell_type": "code",
   "execution_count": 69,
   "id": "7195ea0e",
   "metadata": {},
   "outputs": [
    {
     "name": "stdout",
     "output_type": "stream",
     "text": [
      "Le COP associé est  1.263312906199462\n"
     ]
    }
   ],
   "source": [
    "h11 = CP.PropsSI('H','T',273,'P',4.5e5,'R290') #on est donc en diphasique\n",
    "h12 = CP.PropsSI('H','T|liquid',339,'P',19e5,'R290')\n",
    "\n",
    "h13int = CP.PropsSI('H','T',328,'P',19e5,'R290')\n",
    "h13 = CP.PropsSI('H','T',323,'P',19e5,'R290')\n",
    "\n",
    "COP1 = (h13int-h12)/(h11-h12)\n",
    "print('Le COP associé est ', COP1)"
   ]
  },
  {
   "cell_type": "markdown",
   "id": "ee408ffd",
   "metadata": {},
   "source": [
    "*Le calcul a ici été effectué avec le fluide R290*\n",
    "\n",
    "Remarquons que le coefficient de performance associé est bien moins élevé (de l'ordre de trois fois moins...) que lors des manipulations précedentes, on n'a donc **pas intérêt** à garder ce procédé..."
   ]
  },
  {
   "cell_type": "markdown",
   "id": "9ab2f1a5",
   "metadata": {},
   "source": [
    "#### $2^{ème}$ proposition"
   ]
  },
  {
   "cell_type": "code",
   "execution_count": 70,
   "id": "c628d7a0",
   "metadata": {},
   "outputs": [
    {
     "name": "stdout",
     "output_type": "stream",
     "text": [
      "Le COP associé est  4.119203415064068\n"
     ]
    }
   ],
   "source": [
    "h21 = CP.PropsSI('H','T',273, 'P',4.5e5,'R290')\n",
    "h22 = CP.PropsSI('H','T',339,'P',19e5,'R290')\n",
    "\n",
    "h23int = CP.PropsSI('H','T',339,'P',19e5,'R290')\n",
    "h23 = CP.PropsSI('H','T',323,'P',19e5,'R290')\n",
    "\n",
    "h24 = CP.PropsSI('H','T|liquid',268,'P',4.5e5,'R290')\n",
    "\n",
    "COP2 = (h23-h22)/(h21-h22)\n",
    "print('Le COP associé est ', COP2)\n"
   ]
  },
  {
   "cell_type": "markdown",
   "id": "2b5d8148",
   "metadata": {},
   "source": [
    "*Encore une fois, les calculs précédents ont été faits avec le fluide R290*\n",
    "\n",
    "On obtient ici un COP plus en adéquation avec le travail précédent, et de l'ordre de grandeur des machines usuelles...\n",
    "Ce procédé est donc **à privilégier sur le précédent** ..."
   ]
  },
  {
   "cell_type": "markdown",
   "id": "9f18e2bb",
   "metadata": {},
   "source": [
    "## Conclusion: \n",
    "\n",
    "D'après l'étude précédente, le mode de fonctionnement privilégié se fera donc avec **le fluide R290, avec une forte surchauffe et un sous-refroidissement quasi-nul (voire nul)**"
   ]
  }
 ],
 "metadata": {
  "kernelspec": {
   "display_name": "Python 3 (ipykernel)",
   "language": "python",
   "name": "python3"
  },
  "language_info": {
   "codemirror_mode": {
    "name": "ipython",
    "version": 3
   },
   "file_extension": ".py",
   "mimetype": "text/x-python",
   "name": "python",
   "nbconvert_exporter": "python",
   "pygments_lexer": "ipython3",
   "version": "3.9.12"
  },
  "toc": {
   "base_numbering": 1,
   "nav_menu": {},
   "number_sections": true,
   "sideBar": true,
   "skip_h1_title": false,
   "title_cell": "Table of Contents",
   "title_sidebar": "Contents",
   "toc_cell": false,
   "toc_position": {},
   "toc_section_display": true,
   "toc_window_display": false
  }
 },
 "nbformat": 4,
 "nbformat_minor": 5
}
